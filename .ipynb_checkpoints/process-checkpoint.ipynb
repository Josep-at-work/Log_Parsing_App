{
 "cells": [
  {
   "cell_type": "code",
   "execution_count": 143,
   "id": "4c807ae2-6b6a-4c4f-9fd7-a06691624dd9",
   "metadata": {},
   "outputs": [],
   "source": [
    "import pandas as pd\n",
    "from datetime import datetime\n",
    "import pytz\n",
    "from tzlocal import get_localzone"
   ]
  },
  {
   "cell_type": "code",
   "execution_count": 170,
   "id": "45d273c9-544c-49b9-b5a9-f5918ce87365",
   "metadata": {},
   "outputs": [
    {
     "ename": "TypeError",
     "evalue": "DataFrame.__init__() got an unexpected keyword argument 'astype'",
     "output_type": "error",
     "traceback": [
      "\u001b[1;31m---------------------------------------------------------------------------\u001b[0m",
      "\u001b[1;31mTypeError\u001b[0m                                 Traceback (most recent call last)",
      "Cell \u001b[1;32mIn[170], line 1\u001b[0m\n\u001b[1;32m----> 1\u001b[0m log_df \u001b[38;5;241m=\u001b[39m \u001b[43mpd\u001b[49m\u001b[38;5;241;43m.\u001b[39;49m\u001b[43mDataFrame\u001b[49m\u001b[43m(\u001b[49m\u001b[43mcolumns\u001b[49m\u001b[43m \u001b[49m\u001b[38;5;241;43m=\u001b[39;49m\u001b[43m \u001b[49m\u001b[43m[\u001b[49m\u001b[38;5;124;43m\"\u001b[39;49m\u001b[38;5;124;43mtimestamp\u001b[39;49m\u001b[38;5;124;43m\"\u001b[39;49m\u001b[43m,\u001b[49m\u001b[43m \u001b[49m\u001b[38;5;124;43m\"\u001b[39;49m\u001b[38;5;124;43mhost1\u001b[39;49m\u001b[38;5;124;43m\"\u001b[39;49m\u001b[43m,\u001b[49m\u001b[43m \u001b[49m\u001b[38;5;124;43m\"\u001b[39;49m\u001b[38;5;124;43mhost2\u001b[39;49m\u001b[38;5;124;43m\"\u001b[39;49m\u001b[43m]\u001b[49m\u001b[43m,\u001b[49m\u001b[43m \u001b[49m\u001b[43mastype\u001b[49m\u001b[38;5;241;43m=\u001b[39;49m\u001b[43m \u001b[49m\u001b[43m[\u001b[49m\u001b[43m(\u001b[49m\u001b[38;5;124;43m\"\u001b[39;49m\u001b[38;5;124;43mtimestamp\u001b[39;49m\u001b[38;5;124;43m\"\u001b[39;49m\u001b[43m,\u001b[49m\u001b[38;5;28;43mint\u001b[39;49m\u001b[43m)\u001b[49m\u001b[43m]\u001b[49m\u001b[43m)\u001b[49m\n",
      "\u001b[1;31mTypeError\u001b[0m: DataFrame.__init__() got an unexpected keyword argument 'astype'"
     ]
    }
   ],
   "source": [
    "log_df = pd.DataFrame(columns = [\"timestamp\", \"host1\", \"host2\"]).astype({\"timestamp\",int})"
   ]
  },
  {
   "cell_type": "code",
   "execution_count": 144,
   "id": "42e6f392-9ef2-4e2f-ba52-c251bb6020f2",
   "metadata": {},
   "outputs": [
    {
     "data": {
      "text/html": [
       "<div>\n",
       "<style scoped>\n",
       "    .dataframe tbody tr th:only-of-type {\n",
       "        vertical-align: middle;\n",
       "    }\n",
       "\n",
       "    .dataframe tbody tr th {\n",
       "        vertical-align: top;\n",
       "    }\n",
       "\n",
       "    .dataframe thead th {\n",
       "        text-align: right;\n",
       "    }\n",
       "</style>\n",
       "<table border=\"1\" class=\"dataframe\">\n",
       "  <thead>\n",
       "    <tr style=\"text-align: right;\">\n",
       "      <th></th>\n",
       "      <th>timestamp</th>\n",
       "      <th>host1</th>\n",
       "      <th>host2</th>\n",
       "    </tr>\n",
       "  </thead>\n",
       "  <tbody>\n",
       "    <tr>\n",
       "      <th>0</th>\n",
       "      <td>1707145800</td>\n",
       "      <td>hostA</td>\n",
       "      <td>hostB</td>\n",
       "    </tr>\n",
       "    <tr>\n",
       "      <th>1</th>\n",
       "      <td>1707145830</td>\n",
       "      <td>hostC</td>\n",
       "      <td>hostD</td>\n",
       "    </tr>\n",
       "    <tr>\n",
       "      <th>2</th>\n",
       "      <td>1707145845</td>\n",
       "      <td>hostB</td>\n",
       "      <td>hostE</td>\n",
       "    </tr>\n",
       "    <tr>\n",
       "      <th>3</th>\n",
       "      <td>1707145805</td>\n",
       "      <td>hostF</td>\n",
       "      <td>hostG</td>\n",
       "    </tr>\n",
       "    <tr>\n",
       "      <th>4</th>\n",
       "      <td>1707145900</td>\n",
       "      <td>hostD</td>\n",
       "      <td>hostA</td>\n",
       "    </tr>\n",
       "    <tr>\n",
       "      <th>5</th>\n",
       "      <td>1707145810</td>\n",
       "      <td>hostE</td>\n",
       "      <td>hostF</td>\n",
       "    </tr>\n",
       "    <tr>\n",
       "      <th>6</th>\n",
       "      <td>1707145990</td>\n",
       "      <td>hostG</td>\n",
       "      <td>hostC</td>\n",
       "    </tr>\n",
       "    <tr>\n",
       "      <th>7</th>\n",
       "      <td>1707145895</td>\n",
       "      <td>hostB</td>\n",
       "      <td>hostC</td>\n",
       "    </tr>\n",
       "    <tr>\n",
       "      <th>8</th>\n",
       "      <td>1707146005</td>\n",
       "      <td>hostD</td>\n",
       "      <td>hostE</td>\n",
       "    </tr>\n",
       "  </tbody>\n",
       "</table>\n",
       "</div>"
      ],
      "text/plain": [
       "    timestamp  host1  host2\n",
       "0  1707145800  hostA  hostB\n",
       "1  1707145830  hostC  hostD\n",
       "2  1707145845  hostB  hostE\n",
       "3  1707145805  hostF  hostG\n",
       "4  1707145900  hostD  hostA\n",
       "5  1707145810  hostE  hostF\n",
       "6  1707145990  hostG  hostC\n",
       "7  1707145895  hostB  hostC\n",
       "8  1707146005  hostD  hostE"
      ]
     },
     "execution_count": 144,
     "metadata": {},
     "output_type": "execute_result"
    }
   ],
   "source": [
    "log_df = pd.read_csv(\"Logs/log_test.txt\", sep = \" \", names = [\"timestamp\", \"host1\", \"host2\"])\n",
    "log_df"
   ]
  },
  {
   "cell_type": "code",
   "execution_count": 145,
   "id": "c41aad63-99b3-48d9-b890-7321c917198a",
   "metadata": {},
   "outputs": [],
   "source": [
    "#input data\n",
    "init_datetime=\"2024-02-05 15:10:00\"\n",
    "datetime.strptime(init_datetime, \"%Y-%m-%d %H:%M:%S\")\n",
    "end_datetime=\"2024-02-05 15:10:55\"\n",
    "Hostname=\"hostB\""
   ]
  },
  {
   "cell_type": "code",
   "execution_count": 146,
   "id": "230b1a71-da36-440c-b194-8d0473a50fd6",
   "metadata": {},
   "outputs": [],
   "source": [
    "init_unix = int(pd.to_datetime(init_datetime).tz_localize(\"UTC\").timestamp())\n",
    "end_unix = int(pd.to_datetime(end_datetime).timestamp())\n",
    "hostname = Hostname.strip()"
   ]
  },
  {
   "cell_type": "code",
   "execution_count": 147,
   "id": "5097cdcc-b6ed-4822-a585-ab3b20190fa7",
   "metadata": {},
   "outputs": [],
   "source": [
    "filtered_df = log_df[(log_df[\"timestamp\"]>=init_unix) & (log_df[\"timestamp\"]<=end_unix)]"
   ]
  },
  {
   "cell_type": "code",
   "execution_count": 148,
   "id": "35a026f3-a1f6-461a-963d-2fa62e635c45",
   "metadata": {},
   "outputs": [
    {
     "data": {
      "text/html": [
       "<div>\n",
       "<style scoped>\n",
       "    .dataframe tbody tr th:only-of-type {\n",
       "        vertical-align: middle;\n",
       "    }\n",
       "\n",
       "    .dataframe tbody tr th {\n",
       "        vertical-align: top;\n",
       "    }\n",
       "\n",
       "    .dataframe thead th {\n",
       "        text-align: right;\n",
       "    }\n",
       "</style>\n",
       "<table border=\"1\" class=\"dataframe\">\n",
       "  <thead>\n",
       "    <tr style=\"text-align: right;\">\n",
       "      <th></th>\n",
       "      <th>timestamp</th>\n",
       "      <th>host1</th>\n",
       "      <th>host2</th>\n",
       "    </tr>\n",
       "  </thead>\n",
       "  <tbody>\n",
       "    <tr>\n",
       "      <th>0</th>\n",
       "      <td>1707145800</td>\n",
       "      <td>hostA</td>\n",
       "      <td>hostB</td>\n",
       "    </tr>\n",
       "    <tr>\n",
       "      <th>1</th>\n",
       "      <td>1707145830</td>\n",
       "      <td>hostC</td>\n",
       "      <td>hostD</td>\n",
       "    </tr>\n",
       "    <tr>\n",
       "      <th>2</th>\n",
       "      <td>1707145845</td>\n",
       "      <td>hostB</td>\n",
       "      <td>hostE</td>\n",
       "    </tr>\n",
       "    <tr>\n",
       "      <th>3</th>\n",
       "      <td>1707145805</td>\n",
       "      <td>hostF</td>\n",
       "      <td>hostG</td>\n",
       "    </tr>\n",
       "    <tr>\n",
       "      <th>5</th>\n",
       "      <td>1707145810</td>\n",
       "      <td>hostE</td>\n",
       "      <td>hostF</td>\n",
       "    </tr>\n",
       "  </tbody>\n",
       "</table>\n",
       "</div>"
      ],
      "text/plain": [
       "    timestamp  host1  host2\n",
       "0  1707145800  hostA  hostB\n",
       "1  1707145830  hostC  hostD\n",
       "2  1707145845  hostB  hostE\n",
       "3  1707145805  hostF  hostG\n",
       "5  1707145810  hostE  hostF"
      ]
     },
     "execution_count": 148,
     "metadata": {},
     "output_type": "execute_result"
    }
   ],
   "source": [
    "filtered_df"
   ]
  },
  {
   "cell_type": "code",
   "execution_count": 149,
   "id": "4e15c31c-be7d-4cac-b4ae-c499dc45c417",
   "metadata": {},
   "outputs": [
    {
     "name": "stdout",
     "output_type": "stream",
     "text": [
      "['hostE', 'hostA']\n"
     ]
    }
   ],
   "source": [
    "lhost = filtered_df[\"host2\"][filtered_df[\"host1\"]==hostname].tolist()\n",
    "lhost.extend(filtered_df[\"host1\"][filtered_df[\"host2\"]==hostname])\n",
    "print(lhost)"
   ]
  },
  {
   "cell_type": "code",
   "execution_count": 150,
   "id": "44378514-a3b3-4da6-b355-78b378c04e88",
   "metadata": {},
   "outputs": [
    {
     "name": "stdout",
     "output_type": "stream",
     "text": [
      "hostE, hostA\n"
     ]
    }
   ],
   "source": [
    "print(\", \".join(lhost))"
   ]
  },
  {
   "cell_type": "code",
   "execution_count": 151,
   "id": "2ecb9815-54cc-4916-905c-da469aeda302",
   "metadata": {},
   "outputs": [
    {
     "name": "stdout",
     "output_type": "stream",
     "text": [
      "2024-02-05 15:13:25\n"
     ]
    },
    {
     "name": "stderr",
     "output_type": "stream",
     "text": [
      "C:\\Users\\roman\\AppData\\Local\\Temp\\ipykernel_224\\3553259853.py:2: DeprecationWarning: datetime.datetime.utcfromtimestamp() is deprecated and scheduled for removal in a future version. Use timezone-aware objects to represent datetimes in UTC: datetime.datetime.fromtimestamp(timestamp, datetime.UTC).\n",
      "  dt = datetime.utcfromtimestamp(timestamp)  # Convert to UTC datetime\n"
     ]
    }
   ],
   "source": [
    "timestamp = 1707146005\t\n",
    "dt = datetime.utcfromtimestamp(timestamp)  # Convert to UTC datetime\n",
    "print(dt)  "
   ]
  },
  {
   "cell_type": "code",
   "execution_count": 152,
   "id": "11381ca6-96e6-4145-b898-d22cac217253",
   "metadata": {},
   "outputs": [
    {
     "name": "stdout",
     "output_type": "stream",
     "text": [
      "1707146005\n",
      "2024-02-05 16:13:25 UTC\n"
     ]
    }
   ],
   "source": [
    "maxdt = log_df[\"timestamp\"].max()\n",
    "print(maxdt)\n",
    "print(datetime.fromtimestamp(maxdt), pytz.utc)"
   ]
  },
  {
   "cell_type": "code",
   "execution_count": 153,
   "id": "88b8045d-ab04-417a-9cef-3bf73c23213b",
   "metadata": {},
   "outputs": [
    {
     "name": "stdout",
     "output_type": "stream",
     "text": [
      "2024-02-05 16:13:25+01:00\n"
     ]
    }
   ],
   "source": [
    "timezone = pytz.timezone(\"Europe/Madrid\")\n",
    "print(datetime.fromtimestamp(maxdt, timezone))"
   ]
  },
  {
   "cell_type": "code",
   "execution_count": 154,
   "id": "c91f59f7-85b8-4e32-9e6a-9d738f95f6b4",
   "metadata": {},
   "outputs": [
    {
     "name": "stdout",
     "output_type": "stream",
     "text": [
      "2024-02-05 16:13:25+01:00\n"
     ]
    }
   ],
   "source": [
    "local_tz = get_localzone()\n",
    "print(datetime.fromtimestamp(maxdt, local_tz))"
   ]
  },
  {
   "cell_type": "code",
   "execution_count": 155,
   "id": "b6f99ed9-4dd1-4b30-b653-b43827a6b396",
   "metadata": {},
   "outputs": [
    {
     "name": "stdout",
     "output_type": "stream",
     "text": [
      "1707149605\n",
      "2024-02-05 17:13:25+01:00\n"
     ]
    }
   ],
   "source": [
    "print(int(pd.to_datetime(\"2024-02-05 17:13:25\").tz_localize(local_tz).timestamp()))\n",
    "print(datetime.fromtimestamp(1707149605, local_tz))"
   ]
  },
  {
   "cell_type": "markdown",
   "id": "6329ca5d-0822-44c5-8429-7fab2e94a3ff",
   "metadata": {},
   "source": [
    "# Part 2"
   ]
  },
  {
   "cell_type": "code",
   "execution_count": 160,
   "id": "4457ac97-f38f-4849-9f3f-4043c58ec7fb",
   "metadata": {},
   "outputs": [
    {
     "name": "stdout",
     "output_type": "stream",
     "text": [
      "host1\n",
      "hostA    1\n",
      "hostC    1\n",
      "hostB    1\n",
      "hostF    1\n",
      "hostE    1\n",
      "Name: count, dtype: int64\n"
     ]
    },
    {
     "data": {
      "text/plain": [
       "'hostA'"
      ]
     },
     "execution_count": 160,
     "metadata": {},
     "output_type": "execute_result"
    }
   ],
   "source": [
    "print(filtered_df[\"host1\"].value_counts())\n",
    "filtered_df[\"host1\"].value_counts().idxmax()"
   ]
  },
  {
   "cell_type": "code",
   "execution_count": 166,
   "id": "240f99b8-1119-4041-9187-074c7fd45e6e",
   "metadata": {},
   "outputs": [
    {
     "data": {
      "text/html": [
       "<div>\n",
       "<style scoped>\n",
       "    .dataframe tbody tr th:only-of-type {\n",
       "        vertical-align: middle;\n",
       "    }\n",
       "\n",
       "    .dataframe tbody tr th {\n",
       "        vertical-align: top;\n",
       "    }\n",
       "\n",
       "    .dataframe thead th {\n",
       "        text-align: right;\n",
       "    }\n",
       "</style>\n",
       "<table border=\"1\" class=\"dataframe\">\n",
       "  <thead>\n",
       "    <tr style=\"text-align: right;\">\n",
       "      <th></th>\n",
       "      <th>timestamp</th>\n",
       "      <th>host2</th>\n",
       "    </tr>\n",
       "    <tr>\n",
       "      <th>host1</th>\n",
       "      <th></th>\n",
       "      <th></th>\n",
       "    </tr>\n",
       "  </thead>\n",
       "  <tbody>\n",
       "    <tr>\n",
       "      <th>hostA</th>\n",
       "      <td>1</td>\n",
       "      <td>1</td>\n",
       "    </tr>\n",
       "    <tr>\n",
       "      <th>hostB</th>\n",
       "      <td>1</td>\n",
       "      <td>1</td>\n",
       "    </tr>\n",
       "    <tr>\n",
       "      <th>hostC</th>\n",
       "      <td>1</td>\n",
       "      <td>1</td>\n",
       "    </tr>\n",
       "    <tr>\n",
       "      <th>hostE</th>\n",
       "      <td>1</td>\n",
       "      <td>1</td>\n",
       "    </tr>\n",
       "    <tr>\n",
       "      <th>hostF</th>\n",
       "      <td>1</td>\n",
       "      <td>1</td>\n",
       "    </tr>\n",
       "  </tbody>\n",
       "</table>\n",
       "</div>"
      ],
      "text/plain": [
       "       timestamp  host2\n",
       "host1                  \n",
       "hostA          1      1\n",
       "hostB          1      1\n",
       "hostC          1      1\n",
       "hostE          1      1\n",
       "hostF          1      1"
      ]
     },
     "execution_count": 166,
     "metadata": {},
     "output_type": "execute_result"
    }
   ],
   "source": [
    "filtered_df.groupby(\"host1\").count()"
   ]
  }
 ],
 "metadata": {
  "kernelspec": {
   "display_name": "Python caivenv",
   "language": "python",
   "name": "caivenv"
  },
  "language_info": {
   "codemirror_mode": {
    "name": "ipython",
    "version": 3
   },
   "file_extension": ".py",
   "mimetype": "text/x-python",
   "name": "python",
   "nbconvert_exporter": "python",
   "pygments_lexer": "ipython3",
   "version": "3.12.8"
  }
 },
 "nbformat": 4,
 "nbformat_minor": 5
}
